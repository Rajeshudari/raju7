In [2]:
str=input("enter a string")
i=len(str)
print(i)
enter a stringhelloworld
10

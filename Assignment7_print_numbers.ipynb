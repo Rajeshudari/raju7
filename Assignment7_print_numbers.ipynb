In [2]:
for x in range(6):
    if (x == 3 or x==6):
        continue
    print(x,end=' ')
print("\n")
0 1 2 4 5 

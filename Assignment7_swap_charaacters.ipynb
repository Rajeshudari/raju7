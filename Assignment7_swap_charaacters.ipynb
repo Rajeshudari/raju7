In [3]:
str1=input("enter a string")
str2=input("enter second string")
a=str1[1]
b=str1[0]
c=str1[2:]
d=str2[1]
e=str2[0]
f=str2[2:]
result=a+b+c+" "+d+e+f
print(result)
enter a stringjohn
enter second stringkavya
ojhn akvya

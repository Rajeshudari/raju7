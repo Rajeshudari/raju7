In [1]:
user_input = input("enter a string ")
print("String in capital letters is ", user_input.upper())
print("String in small letters is ", user_input.lower())
enter a string gitam
String in capital letters is  GITAM
String in small letters is  gitam
